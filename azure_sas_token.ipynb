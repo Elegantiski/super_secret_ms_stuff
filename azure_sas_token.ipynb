{
 "cells": [
  {
   "cell_type": "markdown",
   "metadata": {},
   "source": [
    "# Functions and Modules"
   ]
  },
  {
   "cell_type": "code",
   "execution_count": 85,
   "metadata": {},
   "outputs": [
    {
     "name": "stdout",
     "output_type": "stream",
     "text": [
      "Requirement already satisfied: azure-storage-blob in ./cripto/lib/python3.10/site-packages (12.18.1)\n",
      "Requirement already satisfied: isodate>=0.6.1 in ./cripto/lib/python3.10/site-packages (from azure-storage-blob) (0.6.1)\n",
      "Requirement already satisfied: cryptography>=2.1.4 in ./cripto/lib/python3.10/site-packages (from azure-storage-blob) (41.0.4)\n",
      "Requirement already satisfied: azure-core<2.0.0,>=1.28.0 in ./cripto/lib/python3.10/site-packages (from azure-storage-blob) (1.29.4)\n",
      "Requirement already satisfied: typing-extensions>=4.3.0 in ./cripto/lib/python3.10/site-packages (from azure-storage-blob) (4.8.0)\n",
      "Requirement already satisfied: requests>=2.18.4 in ./cripto/lib/python3.10/site-packages (from azure-core<2.0.0,>=1.28.0->azure-storage-blob) (2.31.0)\n",
      "Requirement already satisfied: six>=1.11.0 in ./cripto/lib/python3.10/site-packages (from azure-core<2.0.0,>=1.28.0->azure-storage-blob) (1.16.0)\n",
      "Requirement already satisfied: cffi>=1.12 in ./cripto/lib/python3.10/site-packages (from cryptography>=2.1.4->azure-storage-blob) (1.15.1)\n",
      "Requirement already satisfied: pycparser in ./cripto/lib/python3.10/site-packages (from cffi>=1.12->cryptography>=2.1.4->azure-storage-blob) (2.21)\n",
      "Requirement already satisfied: certifi>=2017.4.17 in ./cripto/lib/python3.10/site-packages (from requests>=2.18.4->azure-core<2.0.0,>=1.28.0->azure-storage-blob) (2023.7.22)\n",
      "Requirement already satisfied: urllib3<3,>=1.21.1 in ./cripto/lib/python3.10/site-packages (from requests>=2.18.4->azure-core<2.0.0,>=1.28.0->azure-storage-blob) (2.0.5)\n",
      "Requirement already satisfied: charset-normalizer<4,>=2 in ./cripto/lib/python3.10/site-packages (from requests>=2.18.4->azure-core<2.0.0,>=1.28.0->azure-storage-blob) (3.2.0)\n",
      "Requirement already satisfied: idna<4,>=2.5 in ./cripto/lib/python3.10/site-packages (from requests>=2.18.4->azure-core<2.0.0,>=1.28.0->azure-storage-blob) (3.4)\n"
     ]
    }
   ],
   "source": [
    "# Download the necessary modules for interacting with Azure Storage Accounts\n",
    "!pip install azure-storage-blob\n",
    "\n",
    "# Utility functions\n",
    "def download_blob(path: str, \n",
    "                  blob_client: BlobServiceClient) -> None:\n",
    "    \n",
    "    with open(path, \"wb\") as my_blob:\n",
    "        download_stream = blob_client.download_blob()\n",
    "        \n",
    "        my_blob.write(download_stream.read())\n",
    "\n",
    "def download_all_blobs(container_client: ContainerClient):\n",
    "    \n",
    "    for blob in container_client.list_blobs():\n",
    "        print(f\"Downloading {blob.name} ...\")\n",
    "        \n",
    "        download_blob(path=blob.name,\n",
    "                      blob_client=container_client.get_blob_client(blob))\n",
    "\n",
    "\n",
    "def list_all_containers(blob_service_client: BlobServiceClient) -> None:\n",
    "    print(\"_____LISTING ALL CONTAINERS_____\")\n",
    "    containers = blob_service_client.list_containers()\n",
    "    for container in containers:\n",
    "        print(f\"Container Name: {container['name']}\")\n",
    "    print(\"________________________________\\n\")\n",
    "    \n",
    "def download_all_storage_account(account_url: str,\n",
    "                                 sas_token: str) -> None:\n",
    "    \n",
    "    blob_service_client = BlobServiceClient(account_url=account_url, credential=sas_token)\n",
    "\n",
    "    list_all_containers(blob_service_client)\n",
    "\n",
    "    for container in blob_service_client.list_containers():\n",
    "\n",
    "        container_client = blob_service_client.get_container_client(container)\n",
    "\n",
    "        print(f\"DOWNLOADING CONTAINER {container['name']}\\n\")\n",
    "\n",
    "        download_all_blobs(container_client=container_client)\n",
    "\n",
    "        print(f\"\\nSuccessfully downloaded all blobs in {container['name']}\\n_____\\n\")"
   ]
  },
  {
   "cell_type": "markdown",
   "metadata": {},
   "source": [
    "## Cell for downloading ALL files \n",
    "from Azure Storage Account"
   ]
  },
  {
   "cell_type": "code",
   "execution_count": 86,
   "metadata": {},
   "outputs": [
    {
     "name": "stdout",
     "output_type": "stream",
     "text": [
      "_____LISTING ALL CONTAINERS_____\n",
      "Container Name: another-secret-container\n",
      "Container Name: super-secret-microsoft-stuff\n",
      "________________________________\n",
      "\n",
      "DOWNLOADING CONTAINER another-secret-container\n",
      "\n",
      "Downloading agent_crimson ...\n",
      "Downloading time_travel_secret ...\n",
      "Downloading treasure_map ...\n",
      "\n",
      "Successfully downloaded all blobs in another-secret-container\n",
      "_____\n",
      "\n",
      "DOWNLOADING CONTAINER super-secret-microsoft-stuff\n",
      "\n",
      "Downloading please_im_just_an_intern.txt ...\n",
      "Downloading really_dont_look.txt ...\n",
      "Downloading secret_stuff.txt ...\n",
      "\n",
      "Successfully downloaded all blobs in super-secret-microsoft-stuff\n",
      "_____\n",
      "\n"
     ]
    }
   ],
   "source": [
    "# SAS Token (hope it doesn't give read, write, delete, etc. permission to all external users)\n",
    "SAS_TOKEN = \"?sv=2022-11-02&ss=bfqt&srt=sco&sp=rwdlacupiytfx&se=2023-12-20T08:23:00Z&st=2023-09-26T00:23:00Z&spr=https,http&sig=fUJv8EVwt9na3jsPzh7dWnH3aVCrPKPp3cm4ezBqf%2Bc%3D\"\n",
    "\n",
    "# Name of the Azure Storage Account\n",
    "STORAGE_ACCOUNT_NAME = \"supersecret1\"\n",
    "ACCOUNT_URL = f\"https://{STORAGE_ACCOUNT_NAME}.blob.core.windows.net\"\n",
    "\n",
    "download_all_storage_account(account_url=ACCOUNT_URL,\n",
    "                             sas_token=SAS_TOKEN)"
   ]
  }
 ],
 "metadata": {
  "kernelspec": {
   "display_name": "cripto",
   "language": "python",
   "name": "python3"
  },
  "language_info": {
   "codemirror_mode": {
    "name": "ipython",
    "version": 3
   },
   "file_extension": ".py",
   "mimetype": "text/x-python",
   "name": "python",
   "nbconvert_exporter": "python",
   "pygments_lexer": "ipython3",
   "version": "3.10.12"
  },
  "orig_nbformat": 4
 },
 "nbformat": 4,
 "nbformat_minor": 2
}
